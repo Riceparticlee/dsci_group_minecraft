{
 "cells": [
  {
   "cell_type": "markdown",
   "id": "72563bd0-1a43-4638-9d0e-2d5b51a28929",
   "metadata": {},
   "source": [
    "hi"
   ]
  },
  {
   "cell_type": "markdown",
   "id": "434d6130-ec27-4383-aa4a-13f38069c465",
   "metadata": {},
   "source": [
    "new changes"
   ]
  },
  {
   "cell_type": "code",
   "execution_count": null,
   "id": "5be94c9a-8199-4e91-81f2-7f532318a4d7",
   "metadata": {},
   "outputs": [],
   "source": [
    "hello from tiffany"
   ]
  },
  {
   "cell_type": "code",
   "execution_count": 3,
   "id": "a6cfda9a-f7ad-4def-b48d-a1bb41f6f5ea",
   "metadata": {},
   "outputs": [
    {
     "data": {
      "text/html": [
       "'HEYYYYY'"
      ],
      "text/latex": [
       "'HEYYYYY'"
      ],
      "text/markdown": [
       "'HEYYYYY'"
      ],
      "text/plain": [
       "[1] \"HEYYYYY\""
      ]
     },
     "metadata": {},
     "output_type": "display_data"
    }
   ],
   "source": [
    "\"HEYYYYY\""
   ]
  },
  {
   "cell_type": "code",
   "execution_count": null,
   "id": "c3000304-ccd9-4fda-9bda-73ae40654160",
   "metadata": {},
   "outputs": [],
   "source": []
  }
 ],
 "metadata": {
  "kernelspec": {
   "display_name": "R",
   "language": "R",
   "name": "ir"
  },
  "language_info": {
   "codemirror_mode": "r",
   "file_extension": ".r",
   "mimetype": "text/x-r-source",
   "name": "R",
   "pygments_lexer": "r",
   "version": "4.3.3"
  }
 },
 "nbformat": 4,
 "nbformat_minor": 5
}
