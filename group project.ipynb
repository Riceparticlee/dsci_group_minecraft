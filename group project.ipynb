{
 "cells": [
  {
   "cell_type": "markdown",
   "id": "72563bd0-1a43-4638-9d0e-2d5b51a28929",
   "metadata": {},
   "source": [
    "hi"
   ]
  },
  {
   "cell_type": "markdown",
   "id": "434d6130-ec27-4383-aa4a-13f38069c465",
   "metadata": {},
   "source": [
    "new changes"
   ]
  },
  {
   "cell_type": "code",
   "execution_count": null,
   "id": "5be94c9a-8199-4e91-81f2-7f532318a4d7",
   "metadata": {},
   "outputs": [],
   "source": []
  }
 ],
 "metadata": {
  "kernelspec": {
   "display_name": "R",
   "language": "R",
   "name": "ir"
  },
  "language_info": {
   "codemirror_mode": "r",
   "file_extension": ".r",
   "mimetype": "text/x-r-source",
   "name": "R",
   "pygments_lexer": "r",
   "version": "4.3.3"
  }
 },
 "nbformat": 4,
 "nbformat_minor": 5
}
