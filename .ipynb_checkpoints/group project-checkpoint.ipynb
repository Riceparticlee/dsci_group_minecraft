{
 "cells": [
  {
   "cell_type": "markdown",
   "id": "72563bd0-1a43-4638-9d0e-2d5b51a28929",
   "metadata": {},
   "source": [
    "hi"
   ]
  },
  {
   "cell_type": "markdown",
   "id": "434d6130-ec27-4383-aa4a-13f38069c465",
   "metadata": {},
   "source": []
  }
 ],
 "metadata": {
  "kernelspec": {
   "display_name": "R",
   "language": "R",
   "name": "ir"
  },
  "language_info": {
   "codemirror_mode": "r",
   "file_extension": ".r",
   "mimetype": "text/x-r-source",
   "name": "R",
   "pygments_lexer": "r",
   "version": "4.3.3"
  }
 },
 "nbformat": 4,
 "nbformat_minor": 5
}
